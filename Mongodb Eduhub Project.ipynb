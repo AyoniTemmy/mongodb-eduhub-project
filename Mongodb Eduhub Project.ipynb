{
 "cells": [
  {
   "cell_type": "code",
   "execution_count": 1,
   "id": "d7d3ecab",
   "metadata": {},
   "outputs": [
    {
     "name": "stdout",
     "output_type": "stream",
     "text": [
      "welcome\n"
     ]
    }
   ],
   "source": [
    "print('welcome')"
   ]
  },
  {
   "cell_type": "code",
   "execution_count": 12,
   "id": "3a6739eb",
   "metadata": {},
   "outputs": [],
   "source": [
    "import pymongo\n",
    "from pymongo import MongoClient\n",
    "from datetime import datetime, timedelta, timezone\n",
    "import pandas as pd\n",
    "from faker import Faker\n",
    "\n",
    "\n",
    "client = MongoClient(\"mongodb://localhost:27017/\")\n",
    "db = client['eduhub_db']"
   ]
  },
  {
   "cell_type": "code",
   "execution_count": null,
   "id": "539ef821",
   "metadata": {},
   "outputs": [],
   "source": [
    "import random\n",
    "from bson import ObjectId\n",
    "from bson.objectid import ObjectId\n",
    "import pprint\n",
    "\n",
    "\n"
   ]
  },
  {
   "cell_type": "code",
   "execution_count": 4,
   "id": "2c657ebe",
   "metadata": {},
   "outputs": [
    {
     "data": {
      "text/plain": [
       "Collection(Database(MongoClient(host=['localhost:27017'], document_class=dict, tz_aware=False, connect=True), 'eduhub_db'), 'submissions')"
      ]
     },
     "execution_count": 4,
     "metadata": {},
     "output_type": "execute_result"
    }
   ],
   "source": [
    "# 1. USERS Collection Validation\n",
    "users_validator = {\n",
    "    \"$jsonSchema\": {\n",
    "        \"bsonType\": \"object\",\n",
    "        \"required\": [\"userId\", \"email\", \"firstName\", \"lastName\", \"role\", \"dateJoined\", \"isActive\"],\n",
    "        \"properties\": {\n",
    "            \"userId\": {\"bsonType\": \"string\"},\n",
    "            \"email\": {\"bsonType\": \"string\", \"pattern\": \"^.+@.+$\"},\n",
    "            \"firstName\": {\"bsonType\": \"string\"},\n",
    "            \"lastName\": {\"bsonType\": \"string\"},\n",
    "            \"role\": {\"enum\": [\"student\", \"instructor\"]},\n",
    "            \"dateJoined\": {\"bsonType\": \"date\"},\n",
    "            \"profile\": {\n",
    "                \"bsonType\": \"object\",\n",
    "                \"properties\": {\n",
    "                    \"bio\": {\"bsonType\": \"string\"},\n",
    "                    \"avatar\": {\"bsonType\": \"string\"},\n",
    "                    \"skills\": {\n",
    "                        \"bsonType\": \"array\",\n",
    "                        \"items\": {\"bsonType\": \"string\"}\n",
    "                    }\n",
    "                }\n",
    "            },\n",
    "            \"isActive\": {\"bsonType\": \"bool\"}\n",
    "        }\n",
    "    }\n",
    "}\n",
    "db.create_collection(\"users\", validator=users_validator)\n",
    "\n",
    "\n",
    "# 2. COURSES Collection Validation\n",
    "courses_validator = {\n",
    "    \"$jsonSchema\": {\n",
    "        \"bsonType\": \"object\",\n",
    "        \"required\": [\"courseId\", \"title\", \"instructorId\", \"level\", \"duration\", \"price\", \"createdAt\", \"updatedAt\", \"isPublished\"],\n",
    "        \"properties\": {\n",
    "            \"courseId\": {\"bsonType\": \"string\"},\n",
    "            \"title\": {\"bsonType\": \"string\"},\n",
    "            \"description\": {\"bsonType\": \"string\"},\n",
    "            \"instructorId\": {\"bsonType\": \"string\"},\n",
    "            \"category\": {\"bsonType\": \"string\"},\n",
    "            \"level\": {\"enum\": [\"beginner\", \"intermediate\", \"advanced\"]},\n",
    "            \"duration\": {\"bsonType\": \"double\"},\n",
    "            \"price\": {\"bsonType\": \"double\"},\n",
    "            \"tags\": {\n",
    "                \"bsonType\": \"array\",\n",
    "                \"items\": {\"bsonType\": \"string\"}\n",
    "            },\n",
    "            \"createdAt\": {\"bsonType\": \"date\"},\n",
    "            \"updatedAt\": {\"bsonType\": \"date\"},\n",
    "            \"isPublished\": {\"bsonType\": \"bool\"}\n",
    "        }\n",
    "    }\n",
    "}\n",
    "db.create_collection(\"courses\", validator=courses_validator)\n",
    "\n",
    "\n",
    "# 3. ENROLLMENTS Collection Validation\n",
    "enrollments_validator = {\n",
    "    \"$jsonSchema\": {\n",
    "        \"bsonType\": \"object\",\n",
    "        \"required\": [\"enrollmentId\", \"studentId\", \"courseId\", \"enrolledAt\", \"status\"],\n",
    "        \"properties\": {\n",
    "            \"enrollmentId\": {\"bsonType\": \"string\"},\n",
    "            \"studentId\": {\"bsonType\": \"string\"},\n",
    "            \"courseId\": {\"bsonType\": \"string\"},\n",
    "            \"enrolledAt\": {\"bsonType\": \"date\"},\n",
    "            \"status\": {\"enum\": [\"in progress\", \"completed\", \"dropped\"]},\n",
    "            \"progress\": {\"bsonType\": \"double\"}  # percentage (0–100)\n",
    "        }\n",
    "    }\n",
    "}\n",
    "db.create_collection(\"enrollments\", validator=enrollments_validator)\n",
    "\n",
    "\n",
    "# 4. LESSONS Collection Validation\n",
    "lessons_validator = {\n",
    "    \"$jsonSchema\": {\n",
    "        \"bsonType\": \"object\",\n",
    "        \"required\": [\"lessonId\", \"courseId\", \"title\", \"content\", \"createdAt\"],\n",
    "        \"properties\": {\n",
    "            \"lessonId\": {\"bsonType\": \"string\"},\n",
    "            \"courseId\": {\"bsonType\": \"string\"},\n",
    "            \"title\": {\"bsonType\": \"string\"},\n",
    "            \"content\": {\"bsonType\": \"string\"},\n",
    "            \"duration\": {\"bsonType\": \"double\"},\n",
    "            \"createdAt\": {\"bsonType\": \"date\"}\n",
    "        }\n",
    "    }\n",
    "}\n",
    "db.create_collection(\"lessons\", validator=lessons_validator)\n",
    "\n",
    "\n",
    "# 5. ASSIGNMENTS Collection\n",
    "assignments_validator = {\n",
    "    \"$jsonSchema\": {\n",
    "        \"bsonType\": \"object\",\n",
    "        \"required\": [\"assignmentId\", \"courseId\", \"title\", \"description\", \"dueDate\", \"createdAt\"],\n",
    "        \"properties\": {\n",
    "            \"assignmentId\": {\"bsonType\": \"string\"},\n",
    "            \"courseId\": {\"bsonType\": \"string\"},\n",
    "            \"title\": {\"bsonType\": \"string\"},\n",
    "            \"description\": {\"bsonType\": \"string\"},\n",
    "            \"dueDate\": {\"bsonType\": \"date\"},\n",
    "            \"createdAt\": {\"bsonType\": \"date\"}\n",
    "        }\n",
    "    }\n",
    "}\n",
    "db.create_collection(\"assignments\", validator=assignments_validator)\n",
    "\n",
    "\n",
    "# 6. SUBMISSIONS Collection\n",
    "submissions_validator = {\n",
    "    \"$jsonSchema\": {\n",
    "        \"bsonType\": \"object\",\n",
    "        \"required\": [\"submissionId\", \"assignmentId\", \"studentId\", \"submittedAt\"],\n",
    "        \"properties\": {\n",
    "            \"submissionId\": {\"bsonType\": \"string\"},\n",
    "            \"assignmentId\": {\"bsonType\": \"string\"},\n",
    "            \"studentId\": {\"bsonType\": \"string\"},\n",
    "            \"submittedAt\": {\"bsonType\": \"date\"},\n",
    "            \"content\": {\"bsonType\": \"string\"},\n",
    "            \"grade\": {\"bsonType\": \"double\"},\n",
    "            \"feedback\": {\"bsonType\": \"string\"}\n",
    "        }\n",
    "    }\n",
    "}\n",
    "db.create_collection(\"submissions\", validator=submissions_validator)\n"
   ]
  },
  {
   "cell_type": "code",
   "execution_count": 21,
   "id": "9a4fdc20",
   "metadata": {},
   "outputs": [],
   "source": [
    "# Initialize Faker\n",
    "fake = Faker()\n",
    "\n",
    "# Helper function to generate unique IDs\n",
    "def gen_id(prefix):\n",
    "    import uuid\n",
    "    return f\"{prefix}_{uuid.uuid4().hex[:8]}\"\n",
    "\n",
    "def random_choice(choices):\n",
    "    return random.choice(choices)\n"
   ]
  },
  {
   "cell_type": "code",
   "execution_count": null,
   "id": "5c0d9913",
   "metadata": {},
   "outputs": [
    {
     "data": {
      "text/plain": [
       "InsertManyResult([ObjectId('684ddb59cbd1ecd6b45645ae'), ObjectId('684ddb59cbd1ecd6b45645af'), ObjectId('684ddb59cbd1ecd6b45645b0'), ObjectId('684ddb59cbd1ecd6b45645b1'), ObjectId('684ddb59cbd1ecd6b45645b2'), ObjectId('684ddb59cbd1ecd6b45645b3'), ObjectId('684ddb59cbd1ecd6b45645b4'), ObjectId('684ddb59cbd1ecd6b45645b5'), ObjectId('684ddb59cbd1ecd6b45645b6'), ObjectId('684ddb59cbd1ecd6b45645b7'), ObjectId('684ddb59cbd1ecd6b45645b8'), ObjectId('684ddb59cbd1ecd6b45645b9'), ObjectId('684ddb59cbd1ecd6b45645ba'), ObjectId('684ddb59cbd1ecd6b45645bb'), ObjectId('684ddb59cbd1ecd6b45645bc'), ObjectId('684ddb59cbd1ecd6b45645bd'), ObjectId('684ddb59cbd1ecd6b45645be'), ObjectId('684ddb59cbd1ecd6b45645bf'), ObjectId('684ddb59cbd1ecd6b45645c0'), ObjectId('684ddb59cbd1ecd6b45645c1'), ObjectId('684ddb59cbd1ecd6b45645c2'), ObjectId('684ddb59cbd1ecd6b45645c3'), ObjectId('684ddb59cbd1ecd6b45645c4'), ObjectId('684ddb59cbd1ecd6b45645c5'), ObjectId('684ddb59cbd1ecd6b45645c6'), ObjectId('684ddb59cbd1ecd6b45645c7'), ObjectId('684ddb59cbd1ecd6b45645c8'), ObjectId('684ddb59cbd1ecd6b45645c9'), ObjectId('684ddb59cbd1ecd6b45645ca'), ObjectId('684ddb59cbd1ecd6b45645cb'), ObjectId('684ddb59cbd1ecd6b45645cc'), ObjectId('684ddb59cbd1ecd6b45645cd'), ObjectId('684ddb59cbd1ecd6b45645ce'), ObjectId('684ddb59cbd1ecd6b45645cf'), ObjectId('684ddb59cbd1ecd6b45645d0'), ObjectId('684ddb59cbd1ecd6b45645d1'), ObjectId('684ddb59cbd1ecd6b45645d2'), ObjectId('684ddb59cbd1ecd6b45645d3'), ObjectId('684ddb59cbd1ecd6b45645d4'), ObjectId('684ddb59cbd1ecd6b45645d5'), ObjectId('684ddb59cbd1ecd6b45645d6'), ObjectId('684ddb59cbd1ecd6b45645d7'), ObjectId('684ddb59cbd1ecd6b45645d8'), ObjectId('684ddb59cbd1ecd6b45645d9'), ObjectId('684ddb59cbd1ecd6b45645da'), ObjectId('684ddb59cbd1ecd6b45645db'), ObjectId('684ddb59cbd1ecd6b45645dc'), ObjectId('684ddb59cbd1ecd6b45645dd'), ObjectId('684ddb59cbd1ecd6b45645de'), ObjectId('684ddb59cbd1ecd6b45645df'), ObjectId('684ddb59cbd1ecd6b45645e0'), ObjectId('684ddb59cbd1ecd6b45645e1'), ObjectId('684ddb59cbd1ecd6b45645e2'), ObjectId('684ddb59cbd1ecd6b45645e3'), ObjectId('684ddb59cbd1ecd6b45645e4'), ObjectId('684ddb59cbd1ecd6b45645e5'), ObjectId('684ddb59cbd1ecd6b45645e6'), ObjectId('684ddb59cbd1ecd6b45645e7'), ObjectId('684ddb59cbd1ecd6b45645e8'), ObjectId('684ddb59cbd1ecd6b45645e9'), ObjectId('684ddb59cbd1ecd6b45645ea'), ObjectId('684ddb59cbd1ecd6b45645eb'), ObjectId('684ddb59cbd1ecd6b45645ec'), ObjectId('684ddb59cbd1ecd6b45645ed'), ObjectId('684ddb59cbd1ecd6b45645ee'), ObjectId('684ddb59cbd1ecd6b45645ef'), ObjectId('684ddb59cbd1ecd6b45645f0'), ObjectId('684ddb59cbd1ecd6b45645f1'), ObjectId('684ddb59cbd1ecd6b45645f2'), ObjectId('684ddb59cbd1ecd6b45645f3'), ObjectId('684ddb59cbd1ecd6b45645f4'), ObjectId('684ddb59cbd1ecd6b45645f5'), ObjectId('684ddb59cbd1ecd6b45645f6'), ObjectId('684ddb59cbd1ecd6b45645f7'), ObjectId('684ddb59cbd1ecd6b45645f8'), ObjectId('684ddb59cbd1ecd6b45645f9'), ObjectId('684ddb59cbd1ecd6b45645fa'), ObjectId('684ddb59cbd1ecd6b45645fb'), ObjectId('684ddb59cbd1ecd6b45645fc'), ObjectId('684ddb59cbd1ecd6b45645fd'), ObjectId('684ddb59cbd1ecd6b45645fe'), ObjectId('684ddb59cbd1ecd6b45645ff'), ObjectId('684ddb59cbd1ecd6b4564600'), ObjectId('684ddb59cbd1ecd6b4564601'), ObjectId('684ddb59cbd1ecd6b4564602'), ObjectId('684ddb59cbd1ecd6b4564603'), ObjectId('684ddb59cbd1ecd6b4564604'), ObjectId('684ddb59cbd1ecd6b4564605'), ObjectId('684ddb59cbd1ecd6b4564606'), ObjectId('684ddb59cbd1ecd6b4564607'), ObjectId('684ddb59cbd1ecd6b4564608'), ObjectId('684ddb59cbd1ecd6b4564609'), ObjectId('684ddb59cbd1ecd6b456460a'), ObjectId('684ddb59cbd1ecd6b456460b'), ObjectId('684ddb59cbd1ecd6b456460c'), ObjectId('684ddb59cbd1ecd6b456460d'), ObjectId('684ddb59cbd1ecd6b456460e')], acknowledged=True)"
      ]
     },
     "execution_count": 12,
     "metadata": {},
     "output_type": "execute_result"
    }
   ],
   "source": [
    "\n",
    "# Create 25 users\n",
    "users = []\n",
    "for _ in range(25):\n",
    "    user = {\n",
    "        \"userId\": gen_id(\"user\"),\n",
    "        \"email\": fake.email(),\n",
    "        \"firstName\": fake.first_name(),\n",
    "        \"lastName\": fake.last_name(),\n",
    "        \"role\": random_choice([\"student\", \"instructor\"]),\n",
    "        \"dateJoined\": fake.date_time_between(start_date='-1y', end_date='now'),\n",
    "        \"isActive\": random.choice([True, False]),\n",
    "        \"profile\": {\n",
    "            \"bio\": fake.text(100),\n",
    "            \"avatar\": fake.image_url(),\n",
    "            \"skills\": fake.words(nb=random.randint(1, 5))\n",
    "        }\n",
    "    }\n",
    "    users.append(user)\n",
    "db.users.insert_many(users)\n",
    "\n",
    "# Insert data into the COURSES collection\n",
    "courses = []\n",
    "for i in range(8):\n",
    "    instructor = random.choice([u for u in users if u[\"role\"] == \"instructor\"])\n",
    "    now = datetime.now(timezone.utc)\n",
    "    course = {\n",
    "        \"courseId\": gen_id(\"course\"),\n",
    "        \"title\": fake.sentence(3),\n",
    "        \"description\": fake.paragraph(nb_sentences=3),\n",
    "        \"instructorId\": instructor[\"userId\"],\n",
    "        \"category\": fake.word(),\n",
    "        \"level\": random_choice([\"beginner\", \"intermediate\", \"advanced\"]),\n",
    "        \"duration\": round(random.uniform(1.0, 20.0), 1),\n",
    "        \"price\": round(random.uniform(10.0, 200.0), 2),\n",
    "        \"tags\": fake.words(nb=random.randint(2, 5)),\n",
    "        \"createdAt\": now,\n",
    "        \"updatedAt\": now,\n",
    "        \"isPublished\": random.choice([True, False])\n",
    "    }\n",
    "    courses.append(course)\n",
    "db.courses.insert_many(courses)\n",
    "\n",
    "# Insert data into the ENROLLMENTS courses\n",
    "enrollments = []\n",
    "for _ in range(15):\n",
    "    student = random.choice([u for u in users if u[\"role\"] == \"student\"])\n",
    "    course = random.choice(courses)\n",
    "    enrollment = {\n",
    "        \"enrollmentId\": gen_id(\"enr\"),\n",
    "        \"studentId\": student[\"userId\"],\n",
    "        \"courseId\": course[\"courseId\"],\n",
    "        \"enrolledAt\": fake.date_time_between(start_date='-6mo', end_date='now'),\n",
    "        \"status\": random_choice([\"in progress\", \"completed\", \"dropped\"]),\n",
    "        \"progress\": round(random.uniform(0, 100), 2)\n",
    "    }\n",
    "    enrollments.append(enrollment)\n",
    "db.enrollments.insert_many(enrollments)\n",
    "\n",
    "#Insert data into the LESSONS collection \n",
    "lessons = []\n",
    "lesson_count = 25\n",
    "course_ids = [course[\"courseId\"] for course in courses]\n",
    "\n",
    "for _ in range(lesson_count):\n",
    "    course_id = random.choice(course_ids)  # randomly assign lesson to an existing course\n",
    "    lesson = {\n",
    "        \"lessonId\": gen_id(\"les\"),\n",
    "        \"courseId\": course_id,\n",
    "        \"title\": fake.sentence(4),\n",
    "        \"content\": fake.text(300),\n",
    "        \"duration\": round(random.uniform(5, 60), 2),\n",
    "        \"createdAt\": fake.date_time_between(start_date='-6mo', end_date='now')\n",
    "    }\n",
    "    lessons.append(lesson)\n",
    "\n",
    "db.lessons.insert_many(lessons)\n",
    "\n",
    "\n",
    "\n"
   ]
  },
  {
   "cell_type": "code",
   "execution_count": 24,
   "id": "0ee6194d",
   "metadata": {},
   "outputs": [
    {
     "name": "stdout",
     "output_type": "stream",
     "text": [
      "✅ Inserted 10 assignments\n",
      "✅ Inserted 12 assignment submissions\n"
     ]
    }
   ],
   "source": [
    "# Create 10 assignments\n",
    "def gen_id(prefix):\n",
    "    return f\"{prefix}_{uuid.uuid4().hex[:8]}\"\n",
    "\n",
    "assignments = []\n",
    "for i in range(10):\n",
    "    course = random.choice(courses)  # Randomly assign to any existing course\n",
    "    now = datetime.now(timezone.utc)\n",
    "    assignment = {\n",
    "        \"assignmentId\": gen_id(\"asg\"),\n",
    "        \"courseId\": course[\"courseId\"],\n",
    "        \"title\": fake.sentence(3),\n",
    "        \"description\": fake.text(150),\n",
    "        \"dueDate\": now + timedelta(days=random.randint(5, 30)),\n",
    "        \"createdAt\": now\n",
    "    }\n",
    "    assignments.append(assignment)\n",
    "db.assignments.insert_many(assignments)\n",
    "print(\"✅ Inserted 10 assignments\")\n",
    "\n",
    "#Create 12 submissions\n",
    "students = [u for u in users if u[\"role\"] == \"student\"]\n",
    "submissions = []\n",
    "for _ in range(12):\n",
    "    assignment = random.choice(assignments)\n",
    "    student = random.choice(students)\n",
    "    submission = {\n",
    "        \"submissionId\": gen_id(\"sub\"),\n",
    "        \"assignmentId\": assignment[\"assignmentId\"],\n",
    "        \"studentId\": student[\"userId\"],\n",
    "        \"submittedAt\": fake.date_time_between(start_date='-30d', end_date='now'),\n",
    "        \"content\": fake.text(200),\n",
    "        \"grade\": round(random.uniform(0, 100), 1),\n",
    "        \"feedback\": fake.sentence()\n",
    "    }\n",
    "    submissions.append(submission)\n",
    "db.submissions.insert_many(submissions)\n",
    "print(\"✅ Inserted 12 assignment submissions\")"
   ]
  },
  {
   "cell_type": "code",
   "execution_count": 14,
   "id": "aadaa5b0",
   "metadata": {},
   "outputs": [
    {
     "name": "stdout",
     "output_type": "stream",
     "text": [
      "✅ New student added: user_3baae9d2\n"
     ]
    }
   ],
   "source": [
    "# Basic CRUD operator\n",
    "# Create Operation\n",
    "\n",
    "# Create a new user \n",
    "new_student = {\n",
    "    \"userId\": gen_id(\"user\"),\n",
    "    \"email\": \"adeolu1@example.com\",\n",
    "    \"firstName\": \"Adeolu\",\n",
    "    \"lastName\": \"Olorunwa\",\n",
    "    \"role\": \"student\",\n",
    "    \"dateJoined\": datetime.now(timezone.utc),\n",
    "    \"isActive\": True,\n",
    "    \"profile\": {\n",
    "        \"bio\": \"I am passionate about learning new technologies.\",\n",
    "        \"avatar\": \"https://example.com/avatar.jpg\",\n",
    "        \"skills\": [\"Python\", \"SQL\", \"Data Analysis\"]\n",
    "    }\n",
    "}\n",
    "db.users.insert_one(new_student)\n",
    "print(\"✅ New student added:\", new_student[\"userId\"])\n"
   ]
  },
  {
   "cell_type": "code",
   "execution_count": 15,
   "id": "70f8bad2",
   "metadata": {},
   "outputs": [],
   "source": [
    "#Create a new course\n",
    "instructor = db.users.find_one({\"role\": \"instructor\"})\n",
    "if instructor:\n",
    "    now = datetime.now(timezone.utc)\n",
    "    new_course = {\n",
    "        \"courseId\": gen_id(\"course\"),\n",
    "        \"title\": \"Introduction to Data Science\",\n",
    "        \"description\": \"This course provides a beginner-friendly introduction to data science concepts.\",\n",
    "        \"instructorId\": instructor[\"userId\"],\n",
    "        \"category\": \"Data Science\",\n",
    "        \"level\": \"beginner\",\n",
    "        \"duration\": 15.0,\n",
    "        \"price\": 120.0,\n",
    "        \"tags\": [\"data\", \"python\", \"machine learning\"],\n",
    "        \"createdAt\": now,\n",
    "        \"updatedAt\": now,\n",
    "        \"isPublished\": True\n",
    "    }\n",
    "    db.courses.insert_one(new_course)"
   ]
  },
  {
   "cell_type": "code",
   "execution_count": 16,
   "id": "5bdeef24",
   "metadata": {},
   "outputs": [],
   "source": [
    "#Enroll a student in a course\n",
    "course = db.courses.find_one()\n",
    "\n",
    "if course:\n",
    "    new_lesson = {\n",
    "        \"lessonId\": gen_id(\"les\"),\n",
    "        \"courseId\": course[\"courseId\"],\n",
    "        \"title\": \"Getting Started with Python\",\n",
    "        \"content\": \"In this lesson, we will install Python and write our first program.\",\n",
    "        \"duration\": 45.0,\n",
    "        \"createdAt\": datetime.now(timezone.utc)\n",
    "    }\n",
    "    db.lessons.insert_one(new_lesson)\n"
   ]
  },
  {
   "cell_type": "code",
   "execution_count": 17,
   "id": "4473f06d",
   "metadata": {},
   "outputs": [],
   "source": [
    "#Add a new lesson to an existing course\n",
    "course = db.courses.find_one()\n",
    "\n",
    "if course:\n",
    "    new_lesson = {\n",
    "        \"lessonId\": gen_id(\"les\"),\n",
    "        \"courseId\": course[\"courseId\"],\n",
    "        \"title\": \"Getting Started with SQL\",\n",
    "        \"content\": \"In this lesson, we will install SQL and write our first program.\",\n",
    "        \"duration\": 45.0,\n",
    "        \"createdAt\": datetime.now(timezone.utc)\n",
    "    }\n",
    "    db.lessons.insert_one(new_lesson)\n"
   ]
  },
  {
   "cell_type": "code",
   "execution_count": null,
   "id": "88f49f60",
   "metadata": {},
   "outputs": [
    {
     "name": "stdout",
     "output_type": "stream",
     "text": [
      "           userId                         email  firstName  lastName     role  \\\n",
      "0   user_5428d83f  melindarodriguez@example.org     Rachel     Baker  student   \n",
      "1   user_d27f9f98     melissabowers@example.com  Stephanie     Smith  student   \n",
      "2   user_db2b69ed         heather44@example.org   Savannah     Lynch  student   \n",
      "3   user_0d36e495       kylejackson@example.org   Jennifer     Hogan  student   \n",
      "4   user_2ae6eef2          zbeasley@example.net     Janice   Holland  student   \n",
      "5   user_412ab980            ndavis@example.com     Tammie     Boyer  student   \n",
      "6   user_621d1a3c         melissa29@example.net     Robert    Dorsey  student   \n",
      "7   user_c2efd78e      jacqueline15@example.org      James   Patrick  student   \n",
      "8   user_ed8edf6f         fwilliams@example.com      Diana      Frey  student   \n",
      "9   user_71cbce6d      cherylhoward@example.com    Michael   Houston  student   \n",
      "10  user_c1c371c8          agarrett@example.com   Kimberly  Erickson  student   \n",
      "11  user_780569a8      gregorysharp@example.org     Steven    Torres  student   \n",
      "12  user_759d8fb4            ugrant@example.net    Richard  Guerrero  student   \n",
      "13  user_ad36f4d0         smallmark@example.com    Heather      Hall  student   \n",
      "14  user_31d41563            agreen@example.org     Amanda    Mcneil  student   \n",
      "15  user_4899b9e2        jonathan63@example.net      Diana   Carlson  student   \n",
      "16  user_08bf22ef        davidcarey@example.org     Victor   Aguirre  student   \n",
      "17  user_28dd95f2         rebecca10@example.com    Colleen  Espinoza  student   \n",
      "18  user_30a4008a             vholt@example.net      Kiara    Thomas  student   \n",
      "19  user_25431486      patrickroach@example.org       Glen     Casey  student   \n",
      "20  user_3baae9d2           adeolu1@example.com     Adeolu  Olorunwa  student   \n",
      "\n",
      "                dateJoined  isActive  \\\n",
      "0  2025-02-24 05:33:40.000      True   \n",
      "1  2025-02-28 02:32:04.000      True   \n",
      "2  2024-09-17 06:51:45.000      True   \n",
      "3  2024-06-28 11:32:36.000      True   \n",
      "4  2024-08-02 18:22:33.000      True   \n",
      "5  2025-06-07 09:05:15.000      True   \n",
      "6  2025-03-30 14:23:47.000      True   \n",
      "7  2024-08-13 12:53:57.000      True   \n",
      "8  2025-03-19 10:27:20.000      True   \n",
      "9  2024-10-13 22:36:45.000      True   \n",
      "10 2024-09-28 23:25:39.000      True   \n",
      "11 2025-05-17 02:29:36.000      True   \n",
      "12 2024-11-08 02:06:21.000      True   \n",
      "13 2024-12-10 03:54:58.000      True   \n",
      "14 2025-03-21 02:26:54.000      True   \n",
      "15 2024-08-28 01:56:58.000      True   \n",
      "16 2025-05-12 20:49:43.000      True   \n",
      "17 2025-06-14 18:16:17.000      True   \n",
      "18 2024-09-23 15:12:20.000      True   \n",
      "19 2024-10-13 02:51:59.000      True   \n",
      "20 2025-06-14 21:07:22.346      True   \n",
      "\n",
      "                                              profile  \n",
      "0   {'bio': 'Strong may seek they company. Myself ...  \n",
      "1   {'bio': 'Role happen think reflect. Dinner aga...  \n",
      "2   {'bio': 'Gas stay civil parent scene.\n",
      "Governme...  \n",
      "3   {'bio': 'Certain over life particularly pressu...  \n",
      "4   {'bio': 'Suggest sing figure rest tell line. A...  \n",
      "5   {'bio': 'Their pass get little. Door radio sou...  \n",
      "6   {'bio': 'Go identify light. Majority one relat...  \n",
      "7   {'bio': 'Travel case clearly six risk similar ...  \n",
      "8   {'bio': 'Base house create drug simple yard te...  \n",
      "9   {'bio': 'Central allow game office exist close...  \n",
      "10  {'bio': 'Growth page training organization. Co...  \n",
      "11  {'bio': 'Push too subject. Simply stop mind ga...  \n",
      "12  {'bio': 'Teacher open moment loss beat animal ...  \n",
      "13  {'bio': 'Option will policy recognize buy. Tri...  \n",
      "14  {'bio': 'Issue everyone cell give machine. Ski...  \n",
      "15  {'bio': 'Resource language should radio minute...  \n",
      "16  {'bio': 'Food end figure. Truth do citizen lea...  \n",
      "17  {'bio': 'And area approach modern.', 'avatar':...  \n",
      "18  {'bio': 'Peace goal program power. Population ...  \n",
      "19  {'bio': 'Prevent exactly lead.\n",
      "Operation poor ...  \n",
      "20  {'bio': 'I am passionate about learning new te...  \n"
     ]
    }
   ],
   "source": [
    "# Read operation: Find all active students\n",
    "active_students = list(db.users.find({\n",
    "    \"role\": \"student\",\n",
    "    \"isActive\": True\n",
    "}))\n",
    "\n",
    "# Convert to DataFrame\n",
    "df = pd.DataFrame(active_students)\n",
    "\n",
    "# Drop the MongoDB _id column for readability\n",
    "if '_id' in df.columns:\n",
    "    df = df.drop(columns=['_id'])\n",
    "\n",
    "# Display the DataFrame\n",
    "print(df)"
   ]
  },
  {
   "cell_type": "code",
   "execution_count": 9,
   "id": "4d5af437",
   "metadata": {},
   "outputs": [
    {
     "name": "stdout",
     "output_type": "stream",
     "text": [
      "Movie picture.: Ashley Stevens (Instructor ID: user_a9e8ce43)\n",
      "Instead college whom office.: Ashley Stevens (Instructor ID: user_a9e8ce43)\n",
      "Lay movie drug serve.: Tonya Floyd (Instructor ID: user_916b8d45)\n",
      "Change page main.: Ashley Stevens (Instructor ID: user_a9e8ce43)\n",
      "About he change.: Leslie Brown (Instructor ID: user_a65f952c)\n",
      "Party reveal daughter.: Leslie Brown (Instructor ID: user_a65f952c)\n",
      "Though behind.: Samantha Kelley (Instructor ID: user_0482efeb)\n",
      "Must strong.: Bryan Hill (Instructor ID: user_560e2df6)\n",
      "Introduction to Data Science: Mario Anderson (Instructor ID: user_e7ab5a50)\n"
     ]
    }
   ],
   "source": [
    "#Retrieve course details with instructor information\n",
    "courses_with_instructors = db.courses.aggregate([\n",
    "    {\n",
    "        \"$lookup\": {\n",
    "            \"from\": \"users\",\n",
    "            \"localField\": \"instructorId\",\n",
    "            \"foreignField\": \"userId\",\n",
    "            \"as\": \"instructor\"\n",
    "        }\n",
    "    }\n",
    "])\n",
    "\n",
    "for course in courses_with_instructors:\n",
    "    # Check if instructor list is not empty\n",
    "    if course[\"instructor\"]:\n",
    "        instructor = course[\"instructor\"][0]  # get the first (and should be only) instructor\n",
    "        print(f'{course[\"title\"]}: {instructor[\"firstName\"]} {instructor[\"lastName\"]} (Instructor ID: {instructor[\"userId\"]})')\n",
    "    else:\n",
    "        print(f'{course[\"title\"]}: Instructor not found')\n",
    "\n"
   ]
  },
  {
   "cell_type": "code",
   "execution_count": 28,
   "id": "ed66a36a",
   "metadata": {},
   "outputs": [
    {
     "name": "stdout",
     "output_type": "stream",
     "text": [
      "About he change. - movie\n"
     ]
    }
   ],
   "source": [
    "#Get all courses in a specific category\n",
    "category = \"movie\" \n",
    "courses = list(db.courses.find({\"category\": category}))\n",
    "for course in courses:\n",
    "    print(course[\"title\"], \"-\", course[\"category\"])"
   ]
  },
  {
   "cell_type": "code",
   "execution_count": 32,
   "id": "bfa51c89",
   "metadata": {},
   "outputs": [
    {
     "name": "stdout",
     "output_type": "stream",
     "text": [
      "Amanda Mcneil\n",
      "Kiara Thomas\n",
      "Glen Casey\n",
      "Not found\n"
     ]
    }
   ],
   "source": [
    "#Find students enrolled in a particular course\n",
    "course_id = \"course_44ba7402\" \n",
    "\n",
    "# Get all studentIds for the course\n",
    "enrollments = db.enrollments.find({\"courseId\": course_id})\n",
    "\n",
    "student_ids = [enr[\"studentId\"] for enr in enrollments]\n",
    "\n",
    "# Query users collection for those students\n",
    "students = list(db.users.find({\n",
    "    \"userId\": {\"$in\": student_ids},\n",
    "    \"role\": \"student\"\n",
    "}))\n",
    "\n",
    "for student in students:\n",
    "    print(student[\"firstName\"], student[\"lastName\"])\n",
    "else:\n",
    "    print(\"Not found\")\n"
   ]
  },
  {
   "cell_type": "code",
   "execution_count": 33,
   "id": "5caf0acb",
   "metadata": {},
   "outputs": [
    {
     "name": "stdout",
     "output_type": "stream",
     "text": [
      "Change page main.\n",
      "About he change.\n"
     ]
    }
   ],
   "source": [
    "#Search courses by title (case-insensitive, partial match)\n",
    "search_text = \"Change\"  # Partial word or phrase to search\n",
    "\n",
    "matched_courses = db.courses.find({\n",
    "    \"title\": {\n",
    "        \"$regex\": search_text,\n",
    "        \"$options\": \"i\"  # case-insensitive\n",
    "    }\n",
    "})\n",
    "\n",
    "for course in matched_courses:\n",
    "    print(course[\"title\"])"
   ]
  },
  {
   "cell_type": "code",
   "execution_count": null,
   "id": "d955df3c",
   "metadata": {},
   "outputs": [
    {
     "data": {
      "text/plain": [
       "UpdateResult({'n': 1, 'nModified': 1, 'ok': 1.0, 'updatedExisting': True}, acknowledged=True)"
      ]
     },
     "execution_count": 35,
     "metadata": {},
     "output_type": "execute_result"
    }
   ],
   "source": [
    "#Update Operations\n",
    "#Update a user’s profile information\n",
    "user_id = \"user_914b4f4a\"\n",
    "\n",
    "db.users.update_one(\n",
    "    { \"userId\": user_id },\n",
    "    {\n",
    "        \"$set\": {\n",
    "            \"profile.bio\": \"Experienced Data Analyst.\",\n",
    "            \"profile.skills\": [\"Python\", \"Data Analysis\", \"SQL\"]\n",
    "        }\n",
    "    }\n",
    ")\n"
   ]
  },
  {
   "cell_type": "code",
   "execution_count": 37,
   "id": "db5829bb",
   "metadata": {},
   "outputs": [
    {
     "data": {
      "text/plain": [
       "UpdateResult({'n': 1, 'nModified': 1, 'ok': 1.0, 'updatedExisting': True}, acknowledged=True)"
      ]
     },
     "execution_count": 37,
     "metadata": {},
     "output_type": "execute_result"
    }
   ],
   "source": [
    "#Mark a course as published\n",
    "db.courses.update_one(\n",
    "    { \"courseId\": \"course_777faaa3\" },\n",
    "    { \"$set\": { \"isPublished\": True } }\n",
    ")\n"
   ]
  },
  {
   "cell_type": "code",
   "execution_count": 43,
   "id": "5078f009",
   "metadata": {},
   "outputs": [
    {
     "name": "stdout",
     "output_type": "stream",
     "text": [
      "{'_id': ObjectId('684ddb59cbd1ecd6b45645af'), 'grade': 92.5}\n"
     ]
    }
   ],
   "source": [
    "#Update assignment grades\n",
    "db.submissions.update_one(\n",
    "    { \"submissionId\": \"sub_20c63da8\" },\n",
    "    { \"$set\": { \"grade\": 92.5 } }\n",
    ")\n",
    "submit = db.submissions.find_one( { \"submissionId\": \"sub_20c63da8\" },{\"grade\":1})\n",
    "print(submit)"
   ]
  },
  {
   "cell_type": "code",
   "execution_count": 44,
   "id": "347fd7bd",
   "metadata": {},
   "outputs": [
    {
     "data": {
      "text/plain": [
       "UpdateResult({'n': 1, 'nModified': 1, 'ok': 1.0, 'updatedExisting': True}, acknowledged=True)"
      ]
     },
     "execution_count": 44,
     "metadata": {},
     "output_type": "execute_result"
    }
   ],
   "source": [
    "# Add tags to an existing course\n",
    "course_id = \"course_37773db4\"\n",
    "\n",
    "db.courses.update_one(\n",
    "    { \"courseId\": course_id },\n",
    "    { \"$addToSet\": { \"tags\": { \"$each\": [\"statistics\", \"visualization\"] } } }\n",
    ")\n"
   ]
  },
  {
   "cell_type": "code",
   "execution_count": null,
   "id": "7cb909dc",
   "metadata": {},
   "outputs": [
    {
     "data": {
      "text/plain": [
       "UpdateResult({'n': 1, 'nModified': 0, 'ok': 1.0, 'updatedExisting': True}, acknowledged=True)"
      ]
     },
     "execution_count": 45,
     "metadata": {},
     "output_type": "execute_result"
    }
   ],
   "source": [
    "#Delete Operations\n",
    "#Remove a user (soft delete by setting isActive to false)\n",
    "user_id = \"user_914b4f4a\"  \n",
    "\n",
    "db.users.update_one(\n",
    "    { \"userId\": user_id },\n",
    "    { \"$set\": { \"isActive\": False } }\n",
    ")"
   ]
  },
  {
   "cell_type": "code",
   "execution_count": 46,
   "id": "c991b537",
   "metadata": {},
   "outputs": [
    {
     "data": {
      "text/plain": [
       "DeleteResult({'n': 1, 'ok': 1.0}, acknowledged=True)"
      ]
     },
     "execution_count": 46,
     "metadata": {},
     "output_type": "execute_result"
    }
   ],
   "source": [
    "#Delete an enrollment\n",
    "enrollment_id = \"enr_4b6f45bb\"\n",
    "\n",
    "db.enrollments.delete_one(\n",
    "    { \"enrollmentId\": enrollment_id }\n",
    ")"
   ]
  },
  {
   "cell_type": "code",
   "execution_count": 47,
   "id": "c4c137f1",
   "metadata": {},
   "outputs": [
    {
     "data": {
      "text/plain": [
       "DeleteResult({'n': 1, 'ok': 1.0}, acknowledged=True)"
      ]
     },
     "execution_count": 47,
     "metadata": {},
     "output_type": "execute_result"
    }
   ],
   "source": [
    "#Remove a lesson from a course\n",
    "lesson_id = \"les_7855227d\"\n",
    "\n",
    "db.lessons.delete_one(\n",
    "    { \"lessonId\": lesson_id }\n",
    ")"
   ]
  },
  {
   "cell_type": "code",
   "execution_count": 49,
   "id": "13015feb",
   "metadata": {},
   "outputs": [
    {
     "name": "stdout",
     "output_type": "stream",
     "text": [
      "Movie picture. : $ 166.34\n",
      "Instead college whom office. : $ 193.64\n",
      "Change page main. : $ 121.15\n",
      "Party reveal daughter. : $ 147.29\n",
      "Though behind. : $ 158.04\n",
      "Must strong. : $ 75.53\n",
      "Introduction to Data Science : $ 120.0\n"
     ]
    }
   ],
   "source": [
    "#Complex Queries\n",
    "#Find courses with price between $50 and $200\n",
    "courses_in_range = db.courses.find({\n",
    "    \"price\": {\n",
    "        \"$gte\": 50,\n",
    "        \"$lte\": 200\n",
    "    }\n",
    "})\n",
    "\n",
    "for course in courses_in_range:\n",
    "    print(course[\"title\"], \": $\", course[\"price\"])"
   ]
  },
  {
   "cell_type": "code",
   "execution_count": 10,
   "id": "47a3aeab",
   "metadata": {},
   "outputs": [
    {
     "name": "stdout",
     "output_type": "stream",
     "text": [
      "                         _id         userId                         email  \\\n",
      "0   684dd980cbd1ecd6b456450b  user_5428d83f  melindarodriguez@example.org   \n",
      "1   684dd980cbd1ecd6b456450c  user_4b0f06ea   mitchelljeffrey@example.net   \n",
      "2   684dd980cbd1ecd6b456450e  user_e7ab5a50        lhernandez@example.com   \n",
      "3   684dd980cbd1ecd6b4564510  user_b397a453         jeffrey98@example.com   \n",
      "4   684dd980cbd1ecd6b4564514  user_6e3e2b15      danielsuarez@example.com   \n",
      "5   684dd980cbd1ecd6b4564515  user_c6dc6955     richardsutton@example.org   \n",
      "6   684dd980cbd1ecd6b4564516  user_879a912d   kimberlywilkins@example.org   \n",
      "7   684dd980cbd1ecd6b4564518  user_d27f9f98     melissabowers@example.com   \n",
      "8   684dd980cbd1ecd6b4564519  user_2499f90d            dawn42@example.com   \n",
      "9   684dd980cbd1ecd6b456451a  user_1f878511           jwilson@example.com   \n",
      "10  684dd980cbd1ecd6b456451c  user_2c701e20  wallacechristine@example.com   \n",
      "11  684dd980cbd1ecd6b456451d  user_335150dd             ncook@example.com   \n",
      "12  684dd9eccbd1ecd6b4564525  user_9e9b461d            mark58@example.org   \n",
      "13  684dd9eccbd1ecd6b4564526  user_0b56e0e4          amanda65@example.net   \n",
      "14  684dd9eccbd1ecd6b4564527  user_f7b15e7c           sarah23@example.org   \n",
      "15  684dd9eccbd1ecd6b4564529  user_96a53b98    fieldsnicholas@example.org   \n",
      "16  684dd9eccbd1ecd6b456452a  user_c19c5ba6  gregoryalejandra@example.org   \n",
      "17  684dd9eccbd1ecd6b456452b  user_e8cc8bd9          iramirez@example.org   \n",
      "18  684dd9eccbd1ecd6b456452d  user_02135f9e          umontoya@example.net   \n",
      "19  684dd9eccbd1ecd6b456452e  user_bbf82796          brenda23@example.org   \n",
      "20  684dd9eccbd1ecd6b456452f  user_86d261b1           zmartin@example.org   \n",
      "21  684dd9eccbd1ecd6b4564531  user_bf069dc0          rodney93@example.org   \n",
      "22  684dd9eccbd1ecd6b4564532  user_412ab980            ndavis@example.com   \n",
      "23  684dd9eccbd1ecd6b4564533  user_653e8ebf    mcdonaldjoseph@example.com   \n",
      "24  684dd9eccbd1ecd6b4564534  user_621d1a3c         melissa29@example.net   \n",
      "25  684dd9eccbd1ecd6b4564535  user_002158a9            qjones@example.net   \n",
      "26  684dd9eccbd1ecd6b4564537  user_a5974156        reneeperez@example.net   \n",
      "27  684dd9eccbd1ecd6b4564538  user_a6c1ac95     maynardmorgan@example.net   \n",
      "28  684dd9eccbd1ecd6b4564539  user_a9b604fc           inguyen@example.net   \n",
      "29  684dd9eccbd1ecd6b456453b  user_ed8edf6f         fwilliams@example.com   \n",
      "30  684dda1bcbd1ecd6b456453f  user_780569a8      gregorysharp@example.org   \n",
      "31  684dda1bcbd1ecd6b4564541  user_8fccf81c        clifford20@example.com   \n",
      "32  684dda1bcbd1ecd6b4564545  user_780d6cd5       susanharris@example.net   \n",
      "33  684dda1bcbd1ecd6b4564549  user_48cebe21       holmesjerry@example.net   \n",
      "34  684dda1bcbd1ecd6b456454a  user_048e74fc     bradfordkaren@example.com   \n",
      "35  684dda1bcbd1ecd6b456454b  user_6c4e1ec6       annaraymond@example.com   \n",
      "36  684dda1bcbd1ecd6b456454c  user_f086daeb     rollinsjoshua@example.org   \n",
      "37  684dda1bcbd1ecd6b456454f  user_06a1bf57        christie77@example.net   \n",
      "38  684dda1bcbd1ecd6b4564551  user_4a3b8e5f      emmaanderson@example.com   \n",
      "39  684dda1bcbd1ecd6b4564554  user_41ae58ff           lmonroe@example.org   \n",
      "40  684ddb59cbd1ecd6b4564557  user_31d41563            agreen@example.org   \n",
      "41  684ddb59cbd1ecd6b4564559  user_b4364df2             ebean@example.org   \n",
      "42  684ddb59cbd1ecd6b456455a  user_af693f0d           zsantos@example.net   \n",
      "43  684ddb59cbd1ecd6b4564560  user_08bf22ef        davidcarey@example.org   \n",
      "44  684ddb59cbd1ecd6b4564561  user_a9e8ce43    rosariomichael@example.com   \n",
      "45  684ddb59cbd1ecd6b4564563  user_28dd95f2         rebecca10@example.com   \n",
      "46  684ddb59cbd1ecd6b4564564  user_2919ba48          donald75@example.net   \n",
      "47  684ddb59cbd1ecd6b4564568  user_04c0cae7           kelly13@example.org   \n",
      "48  684ddb59cbd1ecd6b4564569  user_dd0dbc72      briannahayes@example.net   \n",
      "49  684ddb59cbd1ecd6b456456c  user_6f2a7997       elizabeth58@example.net   \n",
      "50  684ddb59cbd1ecd6b456456d  user_916b8d45   pachecojonathan@example.com   \n",
      "51  684ddb59cbd1ecd6b456456e  user_38ae84c6         reedkeith@example.com   \n",
      "52  684de48acbd1ecd6b456460f  user_3baae9d2           adeolu1@example.com   \n",
      "\n",
      "      firstName    lastName        role              dateJoined  isActive  \\\n",
      "0        Rachel       Baker     student 2025-02-24 05:33:40.000      True   \n",
      "1         Katie       Payne     student 2025-01-02 06:55:51.000     False   \n",
      "2         Mario    Anderson  instructor 2025-06-14 13:21:29.000      True   \n",
      "3        Deanna         Cox  instructor 2025-01-07 09:59:38.000      True   \n",
      "4       Derrick   Hernandez     student 2025-01-15 11:10:55.000     False   \n",
      "5        Connie     Krueger     student 2025-01-11 07:45:14.000     False   \n",
      "6       Kaitlyn      Turner  instructor 2025-02-05 19:04:40.000      True   \n",
      "7     Stephanie       Smith     student 2025-02-28 02:32:04.000      True   \n",
      "8           Amy        Byrd  instructor 2025-02-14 06:28:55.000     False   \n",
      "9        Janice      Taylor  instructor 2025-01-23 21:26:53.000      True   \n",
      "10     Jennifer      Rivera     student 2025-06-10 20:26:38.000     False   \n",
      "11     Cristian      Turner  instructor 2025-02-17 20:43:37.000      True   \n",
      "12     Michelle      Franco     student 2025-02-05 04:56:41.000     False   \n",
      "13        Wendy       Smith  instructor 2025-01-08 16:53:55.000     False   \n",
      "14        Jenna       Davis  instructor 2025-06-14 14:34:17.000      True   \n",
      "15       Daniel        Hall  instructor 2025-02-20 15:21:53.000      True   \n",
      "16       Daniel      Arnold     student 2024-12-29 09:22:28.000     False   \n",
      "17     Patricia     Pearson  instructor 2025-04-03 22:24:37.000     False   \n",
      "18       Angela  Valenzuela     student 2025-06-06 05:54:33.000     False   \n",
      "19        Julie     Carroll  instructor 2025-03-17 04:42:36.000      True   \n",
      "20       Kelsey     Anthony  instructor 2025-06-10 07:07:03.000      True   \n",
      "21         Lynn      Weaver     student 2025-03-01 05:53:14.000     False   \n",
      "22       Tammie       Boyer     student 2025-06-07 09:05:15.000      True   \n",
      "23      Jessica     Salazar  instructor 2025-04-13 16:04:05.000      True   \n",
      "24       Robert      Dorsey     student 2025-03-30 14:23:47.000      True   \n",
      "25      Kenneth      Garcia  instructor 2025-01-29 14:27:00.000     False   \n",
      "26        Jimmy       Stein     student 2025-05-18 03:18:22.000     False   \n",
      "27  Christopher    Hatfield  instructor 2025-05-16 16:34:45.000     False   \n",
      "28      Colleen       Smith  instructor 2025-02-03 17:57:22.000     False   \n",
      "29        Diana        Frey     student 2025-03-19 10:27:20.000      True   \n",
      "30       Steven      Torres     student 2025-05-17 02:29:36.000      True   \n",
      "31      Melanie     Jackson     student 2025-03-23 08:31:17.000     False   \n",
      "32         Todd  Williamson  instructor 2025-02-02 18:24:41.000     False   \n",
      "33        Cindy     Padilla  instructor 2025-04-12 15:33:37.000      True   \n",
      "34      Matthew          Le     student 2025-04-18 04:33:07.000     False   \n",
      "35       Austin       Munoz  instructor 2025-02-18 03:55:46.000     False   \n",
      "36         Lisa    Anderson  instructor 2024-12-30 16:32:53.000      True   \n",
      "37        Erika        Lane     student 2025-04-19 10:46:47.000     False   \n",
      "38          Amy      Miller  instructor 2025-01-18 01:58:45.000      True   \n",
      "39      Richard     Mcguire  instructor 2024-12-22 13:57:57.000      True   \n",
      "40       Amanda      Mcneil     student 2025-03-21 02:26:54.000      True   \n",
      "41        Jared       Meyer  instructor 2025-03-19 21:14:44.000      True   \n",
      "42          Amy       Curry     student 2025-05-20 16:16:44.000     False   \n",
      "43       Victor     Aguirre     student 2025-05-12 20:49:43.000      True   \n",
      "44       Ashley     Stevens  instructor 2025-04-06 15:56:52.000     False   \n",
      "45      Colleen    Espinoza     student 2025-06-14 18:16:17.000      True   \n",
      "46       Regina     Dickson  instructor 2025-01-28 19:41:36.000     False   \n",
      "47          Tim    Mitchell  instructor 2025-05-13 09:55:01.000      True   \n",
      "48         John    Harrison     student 2025-05-17 10:56:39.000     False   \n",
      "49       Joseph    Caldwell     student 2025-03-26 17:42:09.000     False   \n",
      "50        Tonya       Floyd  instructor 2025-04-30 14:38:00.000      True   \n",
      "51         Lisa     Simpson     student 2025-05-22 00:21:38.000     False   \n",
      "52       Adeolu    Olorunwa     student 2025-06-14 21:07:22.346      True   \n",
      "\n",
      "                                              profile  \n",
      "0   {'bio': 'Strong may seek they company. Myself ...  \n",
      "1   {'bio': 'Hear loss them bad. Sell employee wor...  \n",
      "2   {'bio': 'Leader likely food common outside und...  \n",
      "3   {'bio': 'Catch by address. Accept through rema...  \n",
      "4   {'bio': 'Measure law three same point remain a...  \n",
      "5   {'bio': 'Seek like page four social claim. Eco...  \n",
      "6   {'bio': 'Science without reality policy. Socie...  \n",
      "7   {'bio': 'Role happen think reflect. Dinner aga...  \n",
      "8   {'bio': 'Fight least exactly with loss within....  \n",
      "9   {'bio': 'Year different say.', 'avatar': 'http...  \n",
      "10  {'bio': 'Great surface office unit. Attorney b...  \n",
      "11  {'bio': 'Tree improve Mr technology clear. Her...  \n",
      "12  {'bio': 'Hard thus not major. Direction nation...  \n",
      "13  {'bio': 'Mouth various understand woman form t...  \n",
      "14  {'bio': 'Factor road call air former. Successf...  \n",
      "15  {'bio': 'Interview imagine public building. Us...  \n",
      "16  {'bio': 'Anyone include paper. Surface stand r...  \n",
      "17  {'bio': 'Born prove bring card same. I play wh...  \n",
      "18  {'bio': 'This customer both prepare. Talk trea...  \n",
      "19  {'bio': 'With now strategy ball simple less. R...  \n",
      "20  {'bio': 'Many drop international should air. E...  \n",
      "21  {'bio': 'Day them growth find much black. Sold...  \n",
      "22  {'bio': 'Their pass get little. Door radio sou...  \n",
      "23  {'bio': 'Budget identify position activity cou...  \n",
      "24  {'bio': 'Go identify light. Majority one relat...  \n",
      "25  {'bio': 'Gun institution especially affect. No...  \n",
      "26  {'bio': 'American economy opportunity board fo...  \n",
      "27  {'bio': 'Bill pull beat understand. Environmen...  \n",
      "28  {'bio': 'Throw price argue impact position off...  \n",
      "29  {'bio': 'Base house create drug simple yard te...  \n",
      "30  {'bio': 'Push too subject. Simply stop mind ga...  \n",
      "31  {'bio': 'May never bring reality. Line money c...  \n",
      "32  {'bio': 'Notice dream peace center bring chara...  \n",
      "33  {'bio': 'Behavior alone only focus hotel aroun...  \n",
      "34  {'bio': 'Increase far window. Hit serious disc...  \n",
      "35  {'bio': 'Language war little ok describe custo...  \n",
      "36  {'bio': 'Week meet race seek toward list democ...  \n",
      "37  {'bio': 'Never recent understand administratio...  \n",
      "38  {'bio': 'Account case energy stock suggest. Si...  \n",
      "39  {'bio': 'Decade bed list indeed already. Enoug...  \n",
      "40  {'bio': 'Issue everyone cell give machine. Ski...  \n",
      "41  {'bio': 'Their southern pattern suggest resour...  \n",
      "42  {'bio': 'Skin door walk model you world. Risk ...  \n",
      "43  {'bio': 'Food end figure. Truth do citizen lea...  \n",
      "44  {'bio': 'Development wait into interview.', 'a...  \n",
      "45  {'bio': 'And area approach modern.', 'avatar':...  \n",
      "46  {'bio': 'Treat dinner mind time. Study old but...  \n",
      "47  {'bio': 'Let less social long find. Perhaps pl...  \n",
      "48  {'bio': 'Nothing teach window get. Pressure le...  \n",
      "49  {'bio': 'Care debate car case Democrat. Seat r...  \n",
      "50  {'bio': 'Later ask better trade leader general...  \n",
      "51  {'bio': 'Pay back question heavy own church. E...  \n",
      "52  {'bio': 'I am passionate about learning new te...  \n"
     ]
    }
   ],
   "source": [
    "#Get users who joined in the last 6 months\n",
    "# Calculate date 6 months ago\n",
    "six_months_ago = datetime.now() - timedelta(days=180)\n",
    "\n",
    "# Query users who joined in the last 6 months\n",
    "recent_users_cursor = db.users.find({\n",
    "    \"dateJoined\": { \"$gte\": six_months_ago }\n",
    "})\n",
    "\n",
    "# Convert cursor to list and then DataFrame\n",
    "recent_users_list = list(recent_users_cursor)\n",
    "df = pd.DataFrame(recent_users_list)\n",
    "\n",
    "\n",
    "# Display the result\n",
    "print(df)"
   ]
  },
  {
   "cell_type": "code",
   "execution_count": 53,
   "id": "53769223",
   "metadata": {},
   "outputs": [
    {
     "name": "stdout",
     "output_type": "stream",
     "text": [
      "Must strong. tags: ['leader', 'yourself', 'budget', 'huge']\n"
     ]
    }
   ],
   "source": [
    "#Find courses that have specific tags using $in operator\n",
    "tags = [\"leader\",\"yourself\"]\n",
    "\n",
    "tagged_courses = db.courses.find({\n",
    "    \"tags\": { \"$in\": tags }\n",
    "})\n",
    "\n",
    "for course in tagged_courses:\n",
    "    print(course[\"title\"], \"tags:\", course[\"tags\"])\n"
   ]
  },
  {
   "cell_type": "code",
   "execution_count": 54,
   "id": "e186f5ff",
   "metadata": {},
   "outputs": [
    {
     "name": "stdout",
     "output_type": "stream",
     "text": [
      "Both into. due on 2025-06-21 20:28:09.678000\n"
     ]
    }
   ],
   "source": [
    "#Retrieve assignments with due dates in the next week\n",
    "now = datetime.now()\n",
    "next_week = now + timedelta(days=7)\n",
    "\n",
    "upcoming_assignments = db.assignments.find({\n",
    "    \"dueDate\": {\n",
    "        \"$gte\": now,\n",
    "        \"$lte\": next_week\n",
    "    }\n",
    "})\n",
    "\n",
    "for assignment in upcoming_assignments:\n",
    "    print(assignment[\"title\"], \"due on\", assignment[\"dueDate\"])"
   ]
  },
  {
   "cell_type": "code",
   "execution_count": 59,
   "id": "425fa7ff",
   "metadata": {},
   "outputs": [
    {
     "name": "stdout",
     "output_type": "stream",
     "text": [
      "[{'_id': 'course_37773db4', 'totalEnrollments': 4}, {'_id': 'course_6b823027', 'totalEnrollments': 1}, {'_id': 'course_4e260ccf', 'totalEnrollments': 3}, {'_id': 'course_28851d34', 'totalEnrollments': 1}, {'_id': 'course_44ba7402', 'totalEnrollments': 3}, {'_id': 'course_777faaa3', 'totalEnrollments': 2}]\n"
     ]
    }
   ],
   "source": [
    "#Aggregation Pipeline\n",
    "#Course Enrollment Statistics\n",
    "Total_enrollments = db.enrollments.aggregate([\n",
    "    {\"$group\": {\n",
    "        \"_id\": \"$courseId\",\n",
    "        \"totalEnrollments\": {\"$sum\": 1}\n",
    "    }}\n",
    "])\n",
    "results = list(Total_enrollments)\n",
    "print(results)\n"
   ]
  },
  {
   "cell_type": "code",
   "execution_count": 62,
   "id": "29fb65a9",
   "metadata": {},
   "outputs": [
    {
     "name": "stdout",
     "output_type": "stream",
     "text": [
      "[]\n"
     ]
    }
   ],
   "source": [
    "#Calculate average course rating\n",
    "avg_course_ratings = list(db.enrollments.aggregate([\n",
    "    {\"$match\": {\"rating\": {\"$exists\": True}}},\n",
    "    {\"$group\": {\n",
    "        \"_id\": \"$courseId\",\n",
    "        \"avgRating\": {\"$avg\": \"$rating\"}\n",
    "    }}\n",
    "]))\n",
    "\n",
    "print(avg_course_ratings)\n"
   ]
  },
  {
   "cell_type": "code",
   "execution_count": null,
   "id": "a14a8b37",
   "metadata": {},
   "outputs": [
    {
     "name": "stdout",
     "output_type": "stream",
     "text": [
      "Category: movie => Total Courses: 1\n",
      "Category: foot => Total Courses: 1\n",
      "Category: total => Total Courses: 1\n",
      "Category: way => Total Courses: 1\n",
      "Category: agent => Total Courses: 1\n",
      "Category: that => Total Courses: 1\n",
      "Category: Data Science => Total Courses: 1\n",
      "Category: surface => Total Courses: 1\n",
      "Category: center => Total Courses: 1\n"
     ]
    }
   ],
   "source": [
    "#Group by course category\n",
    "course_category = db.courses.aggregate([\n",
    "    {\"$group\": {\n",
    "        \"_id\": \"$category\",\n",
    "        \"totalCourses\": {\"$sum\": 1}\n",
    "    }}\n",
    "])\n",
    "for course in course_category:\n",
    "    print(f\"Category: {course['_id']} => Total Courses: {course['totalCourses']}\")\n"
   ]
  },
  {
   "cell_type": "code",
   "execution_count": 67,
   "id": "2909b46c",
   "metadata": {},
   "outputs": [
    {
     "name": "stdout",
     "output_type": "stream",
     "text": [
      "Student ID: user_459944d1 = Average Grade: 63.67\n",
      "Student ID: user_30a4008a = Average Grade: 58.33\n",
      "Student ID: user_af693f0d = Average Grade: 46.02\n",
      "Student ID: user_dd0dbc72 = Average Grade: 55.01\n",
      "Student ID: user_28dd95f2 = Average Grade: 55.98\n",
      "Student ID: user_31d41563 = Average Grade: 50.91\n",
      "Student ID: user_8829b32c = Average Grade: 39.52\n",
      "Student ID: user_4899b9e2 = Average Grade: 39.52\n",
      "Student ID: user_6f2a7997 = Average Grade: 55.89\n",
      "Student ID: user_3ab3a989 = Average Grade: 50.61\n",
      "Student ID: user_08bf22ef = Average Grade: 55.02\n",
      "Student ID: user_38ae84c6 = Average Grade: 57.64\n",
      "Student ID: user_25431486 = Average Grade: 56.76\n"
     ]
    }
   ],
   "source": [
    "avg_grades = db.submissions.aggregate([\n",
    "    {\n",
    "        \"$group\": {\n",
    "            \"_id\": \"$studentId\",\n",
    "            \"avgGrade\": {\"$avg\": \"$grade\"}\n",
    "        }\n",
    "    }\n",
    "])\n",
    "\n",
    "for student in avg_grades:\n",
    "    print(f\"Student ID: {student['_id']} = Average Grade: {round(student['avgGrade'], 2)}\")\n"
   ]
  },
  {
   "cell_type": "code",
   "execution_count": 72,
   "id": "89489c10",
   "metadata": {},
   "outputs": [],
   "source": [
    "# Completion rate by course\n",
    "completion_rates = db.enrollments.aggregate([\n",
    "    {\n",
    "        \"$group\": {\n",
    "            \"_id\": \"$courseId\",\n",
    "            \"completed\": {\"$sum\": {\"$cond\": [{\"$eq\": [\"$status\", \"completed\"]}, 1, 0]}},\n",
    "            \"total\": {\"$sum\": 1}\n",
    "        }\n",
    "    },\n",
    "    {\n",
    "        \"$project\": {\n",
    "            \"completionRate\": {\"$divide\": [\"$completed\", \"$total\"]}\n",
    "        }\n",
    "    }\n",
    "])\n",
    "\n"
   ]
  },
  {
   "cell_type": "code",
   "execution_count": 73,
   "id": "832c3282",
   "metadata": {},
   "outputs": [
    {
     "name": "stdout",
     "output_type": "stream",
     "text": [
      "[{'_id': 'user_459944d1', 'avgGrade': 63.67142857142857}, {'_id': 'user_30a4008a', 'avgGrade': 58.333333333333336}, {'_id': 'user_38ae84c6', 'avgGrade': 57.6375}, {'_id': 'user_25431486', 'avgGrade': 56.7625}, {'_id': 'user_28dd95f2', 'avgGrade': 55.98}]\n"
     ]
    }
   ],
   "source": [
    "#Top-performing students\n",
    "Top_performing = db.submissions.aggregate([\n",
    "    {\"$group\": {\n",
    "        \"_id\": \"$studentId\",\n",
    "        \"avgGrade\": {\"$avg\": \"$grade\"}\n",
    "    }},\n",
    "    {\"$sort\": {\"avgGrade\": -1}},\n",
    "    {\"$limit\": 5}\n",
    "]\n",
    ")\n",
    "result = list(Top_performing)\n",
    "print (result)"
   ]
  },
  {
   "cell_type": "code",
   "execution_count": 74,
   "id": "99f58f23",
   "metadata": {},
   "outputs": [
    {
     "data": {
      "text/plain": [
       "<pymongo.synchronous.command_cursor.CommandCursor at 0x25acdf46990>"
      ]
     },
     "execution_count": 74,
     "metadata": {},
     "output_type": "execute_result"
    }
   ],
   "source": [
    "#Instructor Analytics:\n",
    "#Total students taught by each instructor\n",
    "db.courses.aggregate([\n",
    "    {\"$lookup\": {\n",
    "        \"from\": \"enrollments\",\n",
    "        \"localField\": \"courseId\",\n",
    "        \"foreignField\": \"courseId\",\n",
    "        \"as\": \"enrollments\"\n",
    "    }},\n",
    "    {\"$unwind\": \"$enrollments\"},\n",
    "    {\"$group\": {\n",
    "        \"_id\": \"$instructorId\",\n",
    "        \"studentsTaught\": {\"$addToSet\": \"$enrollments.studentId\"}\n",
    "    }},\n",
    "    {\"$project\": {\n",
    "        \"instructorId\": \"$_id\",\n",
    "        \"uniqueStudents\": {\"$size\": \"$studentsTaught\"}\n",
    "    }}\n",
    "])\n"
   ]
  },
  {
   "cell_type": "code",
   "execution_count": 75,
   "id": "391bf8c5",
   "metadata": {},
   "outputs": [
    {
     "data": {
      "text/plain": [
       "<pymongo.synchronous.command_cursor.CommandCursor at 0x25acdf46a50>"
      ]
     },
     "execution_count": 75,
     "metadata": {},
     "output_type": "execute_result"
    }
   ],
   "source": [
    "#Average course rating per instructor\n",
    "db.courses.aggregate([\n",
    "    {\"$lookup\": {\n",
    "        \"from\": \"enrollments\",\n",
    "        \"localField\": \"courseId\",\n",
    "        \"foreignField\": \"courseId\",\n",
    "        \"as\": \"enrollments\"\n",
    "    }},\n",
    "    {\"$unwind\": \"$enrollments\"},\n",
    "    {\"$match\": {\"enrollments.rating\": {\"$exists\": True}}},\n",
    "    {\"$group\": {\n",
    "        \"_id\": \"$instructorId\",\n",
    "        \"avgRating\": {\"$avg\": \"$enrollments.rating\"}\n",
    "    }}\n",
    "])\n",
    "\n"
   ]
  },
  {
   "cell_type": "code",
   "execution_count": 76,
   "id": "be64f2c0",
   "metadata": {},
   "outputs": [
    {
     "name": "stdout",
     "output_type": "stream",
     "text": [
      "Instructor ID: user_a65f952c - Total Revenue: $147.29\n",
      "Instructor ID: user_916b8d45 - Total Revenue: $46.56\n",
      "Instructor ID: user_0482efeb - Total Revenue: $158.04\n",
      "Instructor ID: user_560e2df6 - Total Revenue: $0.0\n",
      "Instructor ID: user_e7ab5a50 - Total Revenue: $0.0\n",
      "Instructor ID: user_a9e8ce43 - Total Revenue: $1277.05\n"
     ]
    }
   ],
   "source": [
    "# Revenue generated per instructor\n",
    "revenue_per_instructor = db.courses.aggregate([\n",
    "    {\n",
    "        \"$lookup\": {\n",
    "            \"from\": \"enrollments\",\n",
    "            \"localField\": \"courseId\",\n",
    "            \"foreignField\": \"courseId\",\n",
    "            \"as\": \"enrollments\"\n",
    "        }\n",
    "    },\n",
    "    {\n",
    "        \"$project\": {\n",
    "            \"instructorId\": 1,\n",
    "            \"price\": 1,\n",
    "            \"enrollmentCount\": {\"$size\": \"$enrollments\"}\n",
    "        }\n",
    "    },\n",
    "    {\n",
    "        \"$group\": {\n",
    "            \"_id\": \"$instructorId\",\n",
    "            \"totalRevenue\": {\"$sum\": {\"$multiply\": [\"$price\", \"$enrollmentCount\"]}}\n",
    "        }\n",
    "    }\n",
    "])\n",
    "\n",
    "# Print results\n",
    "for instructor in revenue_per_instructor:\n",
    "    print(f\"Instructor ID: {instructor['_id']} - Total Revenue: ${round(instructor['totalRevenue'], 2)}\")\n"
   ]
  },
  {
   "cell_type": "code",
   "execution_count": 77,
   "id": "6ea80735",
   "metadata": {},
   "outputs": [
    {
     "name": "stdout",
     "output_type": "stream",
     "text": [
      "📅 Monthly Enrollment Trends:\n",
      "2025-06 => 14 enrollments\n"
     ]
    }
   ],
   "source": [
    "#Advanced Analytics:\n",
    "# Monthly enrollment trends\n",
    "monthly_enrollments = db.enrollments.aggregate([\n",
    "    {\n",
    "        \"$group\": {\n",
    "            \"_id\": {\n",
    "                \"year\": {\"$year\": \"$enrolledAt\"},\n",
    "                \"month\": {\"$month\": \"$enrolledAt\"}\n",
    "            },\n",
    "            \"totalEnrollments\": {\"$sum\": 1}\n",
    "        }\n",
    "    },\n",
    "    {\n",
    "        \"$sort\": {\"_id.year\": 1, \"_id.month\": 1}\n",
    "    }\n",
    "])\n",
    "\n",
    "# Print results\n",
    "print(\"📅 Monthly Enrollment Trends:\")\n",
    "for doc in monthly_enrollments:\n",
    "    print(f\"{doc['_id']['year']}-{doc['_id']['month']:02d} => {doc['totalEnrollments']} enrollments\")\n"
   ]
  },
  {
   "cell_type": "code",
   "execution_count": 78,
   "id": "f014c3ab",
   "metadata": {},
   "outputs": [
    {
     "name": "stdout",
     "output_type": "stream",
     "text": [
      "\n",
      "🏆 Most Popular Course Categories:\n",
      "Category: surface => 1 courses\n",
      "Category: movie => 1 courses\n",
      "Category: center => 1 courses\n",
      "Category: agent => 1 courses\n",
      "Category: that => 1 courses\n",
      "Category: Data Science => 1 courses\n",
      "Category: way => 1 courses\n",
      "Category: foot => 1 courses\n",
      "Category: total => 1 courses\n"
     ]
    }
   ],
   "source": [
    "# Most popular course categories\n",
    "popular_categories = db.courses.aggregate([\n",
    "    {\n",
    "        \"$group\": {\n",
    "            \"_id\": \"$category\",\n",
    "            \"courseCount\": {\"$sum\": 1}\n",
    "        }\n",
    "    },\n",
    "    {\n",
    "        \"$sort\": {\"courseCount\": -1}\n",
    "    }\n",
    "])\n",
    "\n",
    "# Print results\n",
    "print(\"\\n🏆 Most Popular Course Categories:\")\n",
    "for category in popular_categories:\n",
    "    print(f\"Category: {category['_id']} => {category['courseCount']} courses\")\n",
    "\n"
   ]
  },
  {
   "cell_type": "code",
   "execution_count": 80,
   "id": "fe3cab81",
   "metadata": {},
   "outputs": [
    {
     "name": "stdout",
     "output_type": "stream",
     "text": [
      "Student Engagement Metrics:\n",
      "Student ID: user_30a4008a => Submissions: 9, Avg Grade: 58.33\n",
      "Student ID: user_6f2a7997 => Submissions: 9, Avg Grade: 55.89\n",
      "Student ID: user_31d41563 => Submissions: 9, Avg Grade: 50.91\n",
      "Student ID: user_38ae84c6 => Submissions: 8, Avg Grade: 57.64\n",
      "Student ID: user_4899b9e2 => Submissions: 8, Avg Grade: 39.52\n",
      "Student ID: user_dd0dbc72 => Submissions: 8, Avg Grade: 55.01\n",
      "Student ID: user_af693f0d => Submissions: 8, Avg Grade: 46.02\n",
      "Student ID: user_25431486 => Submissions: 8, Avg Grade: 56.76\n",
      "Student ID: user_3ab3a989 => Submissions: 7, Avg Grade: 50.61\n",
      "Student ID: user_459944d1 => Submissions: 7, Avg Grade: 63.67\n",
      "Student ID: user_08bf22ef => Submissions: 6, Avg Grade: 55.02\n",
      "Student ID: user_28dd95f2 => Submissions: 5, Avg Grade: 55.98\n",
      "Student ID: user_8829b32c => Submissions: 5, Avg Grade: 39.52\n"
     ]
    }
   ],
   "source": [
    "# Student engagement metrics\n",
    "engagement = db.submissions.aggregate([\n",
    "    {\n",
    "        \"$group\": {\n",
    "            \"_id\": \"$studentId\",\n",
    "            \"submissionCount\": {\"$sum\": 1},\n",
    "            \"averageGrade\": {\"$avg\": \"$grade\"}\n",
    "        }\n",
    "    },\n",
    "    {\n",
    "        \"$sort\": {\"submissionCount\": -1}\n",
    "    }\n",
    "])\n",
    "\n",
    "# Print results\n",
    "print(\"Student Engagement Metrics:\")\n",
    "for student in engagement:\n",
    "    print(f\"Student ID: {student['_id']} => Submissions: {student['submissionCount']}, Avg Grade: {round(student['averageGrade'], 2)}\")\n"
   ]
  },
  {
   "cell_type": "code",
   "execution_count": 81,
   "id": "a522b507",
   "metadata": {},
   "outputs": [
    {
     "data": {
      "text/plain": [
       "'email_1'"
      ]
     },
     "execution_count": 81,
     "metadata": {},
     "output_type": "execute_result"
    }
   ],
   "source": [
    "#Index Creation\n",
    "#User email lookup\n",
    "db.users.create_index(\"email\", unique=True)\n"
   ]
  },
  {
   "cell_type": "code",
   "execution_count": 82,
   "id": "266bf3b0",
   "metadata": {},
   "outputs": [
    {
     "data": {
      "text/plain": [
       "'title_text_category_1'"
      ]
     },
     "execution_count": 82,
     "metadata": {},
     "output_type": "execute_result"
    }
   ],
   "source": [
    "#Course search by title and category\n",
    "db.courses.create_index([(\"title\", \"text\"), (\"category\", 1)])\n"
   ]
  },
  {
   "cell_type": "code",
   "execution_count": 83,
   "id": "1684eec7",
   "metadata": {},
   "outputs": [
    {
     "data": {
      "text/plain": [
       "'dueDate_1'"
      ]
     },
     "execution_count": 83,
     "metadata": {},
     "output_type": "execute_result"
    }
   ],
   "source": [
    "#Assignment queries by due date\n",
    "db.assignments.create_index(\"dueDate\")\n"
   ]
  },
  {
   "cell_type": "code",
   "execution_count": 84,
   "id": "3733f7ac",
   "metadata": {},
   "outputs": [
    {
     "data": {
      "text/plain": [
       "'studentId_1_courseId_1'"
      ]
     },
     "execution_count": 84,
     "metadata": {},
     "output_type": "execute_result"
    }
   ],
   "source": [
    "#Enrollment queries by student and course\n",
    "db.enrollments.create_index([(\"studentId\", 1), (\"courseId\", 1)])\n"
   ]
  },
  {
   "cell_type": "code",
   "execution_count": 86,
   "id": "63b5e01a",
   "metadata": {},
   "outputs": [],
   "source": [
    "#Analyze query performance using explain() method in PyMongo\n",
    "db.users.find_one({\"email\": \"student@example.com\"})\n"
   ]
  },
  {
   "cell_type": "code",
   "execution_count": 87,
   "id": "443e1fee",
   "metadata": {},
   "outputs": [
    {
     "data": {
      "text/plain": [
       "<pymongo.synchronous.cursor.Cursor at 0x25acd00da90>"
      ]
     },
     "execution_count": 87,
     "metadata": {},
     "output_type": "execute_result"
    }
   ],
   "source": [
    "#Optimize at least 3 slow queries\n",
    "db.courses.find({ \"$text\": { \"$search\": \"Python\" } })\n"
   ]
  },
  {
   "cell_type": "code",
   "execution_count": 89,
   "id": "83f3ea57",
   "metadata": {},
   "outputs": [
    {
     "data": {
      "text/plain": [
       "<pymongo.synchronous.cursor.Cursor at 0x25acd00dbd0>"
      ]
     },
     "execution_count": 89,
     "metadata": {},
     "output_type": "execute_result"
    }
   ],
   "source": [
    "#Document the performance improvements using Python timing functions\n",
    "db.assignments.find({ \"dueDate\": { \"$lt\": datetime.now() } })\n"
   ]
  },
  {
   "cell_type": "code",
   "execution_count": null,
   "id": "1478b2c5",
   "metadata": {},
   "outputs": [],
   "source": [
    "\n",
    "#Schema Validation\n",
    "db.create_collection(\"users\", validator={\n",
    "    \"$jsonSchema\": {\n",
    "        \"bsonType\": \"object\",\n",
    "        \"required\": [\"userId\", \"email\", \"firstName\", \"lastName\", \"role\", \"dateJoined\", \"isActive\"], #Required fields\n",
    "        \"properties\": {\n",
    "            \"userId\": {\"bsonType\": \"string\"},\n",
    "            \"email\": {\n",
    "                \"bsonType\": \"string\",\n",
    "                \"pattern\": \"^\\\\S+@\\\\S+\\\\.\\\\S+$\",  # Regex for email format\n",
    "                \"description\": \"Must be a valid email address\"\n",
    "            },\n",
    "            \"firstName\": {\"bsonType\": \"string\"},\n",
    "            \"lastName\": {\"bsonType\": \"string\"},\n",
    "            \"role\": {\n",
    "                \"bsonType\": \"string\",\n",
    "                \"enum\": [\"student\", \"instructor\"],  # Enum restriction\n",
    "                \"description\": \"Must be either 'student' or 'instructor'\"\n",
    "            },\n",
    "            \"dateJoined\": {\"bsonType\": \"date\"},\n",
    "            \"isActive\": {\"bsonType\": \"bool\"}\n",
    "        }\n",
    "    }\n",
    "})\n",
    "\n",
    "print(\"✅ Schema validation set up for 'users' collection.\")\n"
   ]
  },
  {
   "cell_type": "code",
   "execution_count": 95,
   "id": "316eea2a",
   "metadata": {},
   "outputs": [
    {
     "name": "stdout",
     "output_type": "stream",
     "text": [
      " Duplicate email detected.\n"
     ]
    }
   ],
   "source": [
    "##Error Handling\n",
    "#Duplicate key errors\n",
    "from pymongo.errors import WriteError\n",
    "\n",
    "from pymongo.errors import DuplicateKeyError\n",
    "\n",
    "try:\n",
    "    db.users.insert_one({\n",
    "        \"userId\": \"user_5428d93f\",\n",
    "        \"email\": \"martinezpaul@example.org\",\n",
    "        \"firstName\": \"Hassan\",\n",
    "        \"lastName\": \"Isah\",\n",
    "        \"role\": \"student\",\n",
    "        \"dateJoined\": datetime.now(),\n",
    "        \"isActive\": True\n",
    "    })\n",
    "except DuplicateKeyError:\n",
    "    print(\" Duplicate email detected.\")\n",
    "\n"
   ]
  },
  {
   "cell_type": "code",
   "execution_count": 96,
   "id": "806ec6d7",
   "metadata": {},
   "outputs": [
    {
     "name": "stdout",
     "output_type": "stream",
     "text": [
      "WriteError due to invalid data type: Document failed validation, full error: {'index': 0, 'code': 121, 'errmsg': 'Document failed validation', 'errInfo': {'failingDocumentId': ObjectId('684e90b3cbd1ecd6b4564616'), 'details': {'operatorName': '$jsonSchema', 'schemaRulesNotSatisfied': [{'operatorName': 'properties', 'propertiesNotSatisfied': [{'propertyName': 'dateJoined', 'details': [{'operatorName': 'bsonType', 'specifiedAs': {'bsonType': 'date'}, 'reason': 'type did not match', 'consideredValue': 'not a date', 'consideredType': 'string'}]}]}]}}}\n"
     ]
    }
   ],
   "source": [
    "\n",
    "#Invalid data type insertions\n",
    "try:\n",
    "    db.users.insert_one({\n",
    "        \"userId\": \"user_5428d93f\",\n",
    "        \"email\": \"wrongtype@email.com\",\n",
    "        \"firstName\": \"Grace\",\n",
    "        \"lastName\": \"Abah\",\n",
    "        \"role\": \"student\",\n",
    "        \"dateJoined\": \"not a date\",\n",
    "        \"isActive\": True\n",
    "    })\n",
    "except WriteError as e:\n",
    "    print(\"WriteError due to invalid data type:\", e)"
   ]
  },
  {
   "cell_type": "code",
   "execution_count": 97,
   "id": "4a224c6b",
   "metadata": {},
   "outputs": [
    {
     "name": "stdout",
     "output_type": "stream",
     "text": [
      "Missing required field: Document failed validation, full error: {'index': 0, 'code': 121, 'errmsg': 'Document failed validation', 'errInfo': {'failingDocumentId': ObjectId('684e9139cbd1ecd6b4564617'), 'details': {'operatorName': '$jsonSchema', 'schemaRulesNotSatisfied': [{'operatorName': 'required', 'specifiedAs': {'required': ['userId', 'email', 'firstName', 'lastName', 'role', 'dateJoined', 'isActive']}, 'missingProperties': ['userId']}]}}}\n"
     ]
    }
   ],
   "source": [
    "#Missing required fields\n",
    "try:\n",
    "    db.users.insert_one({\n",
    "        # \"userId\" is missing \n",
    "        \"email\": \"missing@field.com\",\n",
    "        \"firstName\": \"Amaka\",\n",
    "        \"lastName\": \"Okoro\",\n",
    "        \"role\": \"instructor\",\n",
    "        \"dateJoined\": datetime.now(),\n",
    "        \"isActive\": True\n",
    "    })\n",
    "except WriteError as e:\n",
    "    print(\"Missing required field:\", e)"
   ]
  }
 ],
 "metadata": {
  "kernelspec": {
   "display_name": "Python 3",
   "language": "python",
   "name": "python3"
  },
  "language_info": {
   "codemirror_mode": {
    "name": "ipython",
    "version": 3
   },
   "file_extension": ".py",
   "mimetype": "text/x-python",
   "name": "python",
   "nbconvert_exporter": "python",
   "pygments_lexer": "ipython3",
   "version": "3.13.3"
  }
 },
 "nbformat": 4,
 "nbformat_minor": 5
}
